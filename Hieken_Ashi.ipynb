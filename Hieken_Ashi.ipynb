{
  "nbformat": 4,
  "nbformat_minor": 0,
  "metadata": {
    "colab": {
      "name": "Hieken Ashi.ipynb",
      "provenance": [],
      "collapsed_sections": [],
      "toc_visible": true,
      "include_colab_link": true
    },
    "kernelspec": {
      "name": "python3",
      "display_name": "Python 3"
    }
  },
  "cells": [
    {
      "cell_type": "markdown",
      "metadata": {
        "id": "view-in-github",
        "colab_type": "text"
      },
      "source": [
        "<a href=\"https://colab.research.google.com/github/ahphanikrishna/TradingModel/blob/main/Hieken_Ashi.ipynb\" target=\"_parent\"><img src=\"https://colab.research.google.com/assets/colab-badge.svg\" alt=\"Open In Colab\"/></a>"
      ]
    },
    {
      "cell_type": "code",
      "metadata": {
        "id": "l0VvIADMNc_j"
      },
      "source": [
        "from google.colab import drive\n",
        "drive.mount('/content/drive')"
      ],
      "execution_count": null,
      "outputs": []
    },
    {
      "cell_type": "code",
      "metadata": {
        "id": "vCN5mPDQURWz",
        "colab": {
          "base_uri": "https://localhost:8080/"
        },
        "outputId": "b3818962-9c14-4484-e065-491aa6909771"
      },
      "source": [
        "import pkg_resources\n",
        "\n",
        "required = {'quandl'}\n",
        "installed = {pkg.key for pkg in pkg_resources.working_set}\n",
        "missing = required - installed\n",
        "if missing:\n",
        "  !pip install quandl"
      ],
      "execution_count": null,
      "outputs": [
        {
          "output_type": "stream",
          "text": [
            "Requirement already satisfied: quandl in /usr/local/lib/python3.6/dist-packages (3.5.3)\n",
            "Requirement already satisfied: numpy>=1.8 in /usr/local/lib/python3.6/dist-packages (from quandl) (1.18.5)\n",
            "Requirement already satisfied: requests>=2.7.0 in /usr/local/lib/python3.6/dist-packages (from quandl) (2.23.0)\n",
            "Requirement already satisfied: pandas>=0.14 in /usr/local/lib/python3.6/dist-packages (from quandl) (1.1.4)\n",
            "Requirement already satisfied: six in /usr/local/lib/python3.6/dist-packages (from quandl) (1.15.0)\n",
            "Requirement already satisfied: more-itertools in /usr/local/lib/python3.6/dist-packages (from quandl) (8.6.0)\n",
            "Requirement already satisfied: python-dateutil in /usr/local/lib/python3.6/dist-packages (from quandl) (2.8.1)\n",
            "Requirement already satisfied: inflection>=0.3.1 in /usr/local/lib/python3.6/dist-packages (from quandl) (0.5.1)\n",
            "Requirement already satisfied: urllib3!=1.25.0,!=1.25.1,<1.26,>=1.21.1 in /usr/local/lib/python3.6/dist-packages (from requests>=2.7.0->quandl) (1.24.3)\n",
            "Requirement already satisfied: certifi>=2017.4.17 in /usr/local/lib/python3.6/dist-packages (from requests>=2.7.0->quandl) (2020.6.20)\n",
            "Requirement already satisfied: chardet<4,>=3.0.2 in /usr/local/lib/python3.6/dist-packages (from requests>=2.7.0->quandl) (3.0.4)\n",
            "Requirement already satisfied: idna<3,>=2.5 in /usr/local/lib/python3.6/dist-packages (from requests>=2.7.0->quandl) (2.10)\n",
            "Requirement already satisfied: pytz>=2017.2 in /usr/local/lib/python3.6/dist-packages (from pandas>=0.14->quandl) (2018.9)\n"
          ],
          "name": "stdout"
        }
      ]
    },
    {
      "cell_type": "code",
      "metadata": {
        "id": "2rF8PLezUev9",
        "colab": {
          "base_uri": "https://localhost:8080/"
        },
        "outputId": "5ac9efff-5bec-4602-d941-cd94fd30df01"
      },
      "source": [
        "import os\n",
        "import time\n",
        "import pickle\n",
        "import logging\n",
        "\n",
        "import quandl\n",
        "\n",
        "import pandas as pd\n",
        "import numpy as np\n",
        "from datetime import datetime\n",
        "\n",
        "import statsmodels\n",
        "\n",
        "import statsmodels.api as sm\n",
        "\n",
        "from statsmodels.tsa.stattools import coint, adfuller\n",
        "from statsmodels.tsa.stattools import grangercausalitytests\n",
        "from statsmodels.tsa.api import VAR\n",
        "from statsmodels.tsa.stattools import adfuller\n",
        "\n",
        "from statsmodels.tools.eval_measures import rmse, aic\n",
        "\n",
        "from sklearn.decomposition import PCA\n",
        "\n",
        "import matplotlib.pyplot as plt\n",
        "import seaborn as sns; sns.set(style=\"whitegrid\")\n",
        "\n",
        "from IPython.core.interactiveshell import InteractiveShell\n",
        "InteractiveShell.ast_node_interactivity = \"all\"\n",
        "\n",
        "import matplotlib.pylab as plt\n",
        "from matplotlib.pylab import rcParams\n",
        "rcParams['figure.figsize'] = 15, 6\n",
        "%matplotlib inline\n",
        "\n",
        "print(os.listdir(\".\"))"
      ],
      "execution_count": null,
      "outputs": [
        {
          "output_type": "stream",
          "text": [
            "['.config', 'drive', 'Equity.csv', 'sample_data']\n"
          ],
          "name": "stdout"
        }
      ]
    },
    {
      "cell_type": "code",
      "metadata": {
        "id": "eHnRyeavUk7w",
        "colab": {
          "base_uri": "https://localhost:8080/",
          "height": 313
        },
        "outputId": "7cc85708-07f9-448e-9600-4cb6a8d9cadc"
      },
      "source": [
        "# Set the standard Variables\n",
        "QUANDL_KEY = \"zSknuWKyh6Cny1ZyvdYi\"\n",
        "quandl.ApiConfig.api_key = QUANDL_KEY\n",
        "\n",
        "STOCK_PRICES_PATH = \"/content/drive/My Drive/AlgoTrading/Stock Prices/\"\n",
        "\n",
        "# Reading the Stocks traded in Bombay Stock exchange\n",
        "STOCKLISTFILE = \"/content/drive/My Drive/AlgoTrading/Equity.csv\" \n",
        "#STOCKLISTFILE = \"/content/Equity.csv\"\n",
        "STOCK_LIST_0 = pd.read_csv(STOCKLISTFILE)\n",
        "\n",
        "STOCK_LIST_0.shape\n",
        "STOCK_LIST_0.head()\n",
        "\n",
        "STOCK_LIST = STOCK_LIST_0[STOCK_LIST_0.Instrument == \"Equity\"]\n",
        "# STOCK_LIST = STOCK_LIST_0\n",
        "STOCK_LIST.shape"
      ],
      "execution_count": null,
      "outputs": [
        {
          "output_type": "execute_result",
          "data": {
            "text/plain": [
              "(492, 10)"
            ]
          },
          "metadata": {
            "tags": []
          },
          "execution_count": 22
        },
        {
          "output_type": "execute_result",
          "data": {
            "text/html": [
              "<div>\n",
              "<style scoped>\n",
              "    .dataframe tbody tr th:only-of-type {\n",
              "        vertical-align: middle;\n",
              "    }\n",
              "\n",
              "    .dataframe tbody tr th {\n",
              "        vertical-align: top;\n",
              "    }\n",
              "\n",
              "    .dataframe thead th {\n",
              "        text-align: right;\n",
              "    }\n",
              "</style>\n",
              "<table border=\"1\" class=\"dataframe\">\n",
              "  <thead>\n",
              "    <tr style=\"text-align: right;\">\n",
              "      <th></th>\n",
              "      <th>Security Code</th>\n",
              "      <th>Issuer Name</th>\n",
              "      <th>Security Id</th>\n",
              "      <th>Security Name</th>\n",
              "      <th>Status</th>\n",
              "      <th>Group</th>\n",
              "      <th>Face Value</th>\n",
              "      <th>ISIN No</th>\n",
              "      <th>Industry</th>\n",
              "      <th>Instrument</th>\n",
              "    </tr>\n",
              "  </thead>\n",
              "  <tbody>\n",
              "    <tr>\n",
              "      <th>0</th>\n",
              "      <td>500003</td>\n",
              "      <td>NaN</td>\n",
              "      <td>AEGISLOG</td>\n",
              "      <td>AEGIS LOGISTICS LTD.</td>\n",
              "      <td>Active</td>\n",
              "      <td>A</td>\n",
              "      <td>1.0</td>\n",
              "      <td>INE208C01025</td>\n",
              "      <td>Oil Marketing &amp; Distribution</td>\n",
              "      <td>Equity</td>\n",
              "    </tr>\n",
              "    <tr>\n",
              "      <th>1</th>\n",
              "      <td>500008</td>\n",
              "      <td>NaN</td>\n",
              "      <td>AMARAJABAT</td>\n",
              "      <td>AMARA RAJA BATTERIES LTD.</td>\n",
              "      <td>Active</td>\n",
              "      <td>A</td>\n",
              "      <td>1.0</td>\n",
              "      <td>INE885A01032</td>\n",
              "      <td>Auto Parts &amp; Equipment</td>\n",
              "      <td>Equity</td>\n",
              "    </tr>\n",
              "    <tr>\n",
              "      <th>2</th>\n",
              "      <td>500010</td>\n",
              "      <td>NaN</td>\n",
              "      <td>HDFC</td>\n",
              "      <td>HOUSING DEVELOPMENT FINANCE CORP.LTD.</td>\n",
              "      <td>Active</td>\n",
              "      <td>A</td>\n",
              "      <td>2.0</td>\n",
              "      <td>INE001A01036</td>\n",
              "      <td>Housing Finance</td>\n",
              "      <td>Equity</td>\n",
              "    </tr>\n",
              "    <tr>\n",
              "      <th>3</th>\n",
              "      <td>500020</td>\n",
              "      <td>NaN</td>\n",
              "      <td>BOMDYEING</td>\n",
              "      <td>BOMBAY DYEING &amp; MFG.CO.LTD.</td>\n",
              "      <td>Active</td>\n",
              "      <td>A</td>\n",
              "      <td>2.0</td>\n",
              "      <td>INE032A01023</td>\n",
              "      <td>Textiles</td>\n",
              "      <td>Equity</td>\n",
              "    </tr>\n",
              "    <tr>\n",
              "      <th>4</th>\n",
              "      <td>500027</td>\n",
              "      <td>NaN</td>\n",
              "      <td>ATUL</td>\n",
              "      <td>ATUL LTD.</td>\n",
              "      <td>Active</td>\n",
              "      <td>A</td>\n",
              "      <td>10.0</td>\n",
              "      <td>INE100A01010</td>\n",
              "      <td>Specialty Chemicals</td>\n",
              "      <td>Equity</td>\n",
              "    </tr>\n",
              "  </tbody>\n",
              "</table>\n",
              "</div>"
            ],
            "text/plain": [
              "   Security Code  Issuer Name  ...                      Industry Instrument\n",
              "0         500003          NaN  ...  Oil Marketing & Distribution     Equity\n",
              "1         500008          NaN  ...        Auto Parts & Equipment     Equity\n",
              "2         500010          NaN  ...              Housing Finance      Equity\n",
              "3         500020          NaN  ...                      Textiles     Equity\n",
              "4         500027          NaN  ...           Specialty Chemicals     Equity\n",
              "\n",
              "[5 rows x 10 columns]"
            ]
          },
          "metadata": {
            "tags": []
          },
          "execution_count": 22
        },
        {
          "output_type": "execute_result",
          "data": {
            "text/plain": [
              "(492, 10)"
            ]
          },
          "metadata": {
            "tags": []
          },
          "execution_count": 22
        }
      ]
    },
    {
      "cell_type": "code",
      "metadata": {
        "id": "kUlAwM5BpEO-"
      },
      "source": [
        "def extractAllStockData():\n",
        "    for index,row in STOCK_LIST.iterrows():\n",
        "        print(str(datetime.now()),\" Fetching data for \"+row['Security Name'])\n",
        "\n",
        "        code = str(row['Security Code'])\n",
        "        quandlStockCode = 'BSE/BOM'+ code\n",
        "        filename= STOCK_PRICES_PATH + row['Security Id'] + '.csv'\n",
        "\n",
        "        try:\n",
        "            StockDataDF = quandl.get(quandlStockCode,start_date=\"2010-01-01\", end_date=\"2019-12-31\")\n",
        "            print(StockDataDF.head())\n",
        "\n",
        "            #StockDataDF.to_csv(filename)\n",
        "        except Exception as e:\n",
        "            print(str(datetime.now()),\" Unable to fetch data for \"+row['Security Name'])\n",
        "            print(e)\n",
        "    \n",
        "        try:\n",
        "            StockDataDF.to_csv(filename)\n",
        "        except Exception as e:\n",
        "            print(str(datetime.now()),\" Unable to write data for \"+row['Security Name'])\n",
        "            print(e)\n",
        "\n",
        "    return\n",
        "\n",
        "extractAllStockData()"
      ],
      "execution_count": null,
      "outputs": []
    },
    {
      "cell_type": "code",
      "metadata": {
        "id": "b35OFDmYjx4j"
      },
      "source": [
        "# Create a full dataframe which will have PCT change for all stocks in BSE\n",
        "FULL_DF_0 = pd.DataFrame()\n",
        "\n",
        "# Calculate percentage change for all stocks\n",
        "for index,row in STOCK_LIST.iterrows():\n",
        "  code = str(row['Security Code'])\n",
        "  symbol = row['Security Id']\n",
        "  FILE = STOCK_PRICES_PATH + row['Security Id'] + '.csv'\n",
        "\n",
        "  if os.path.exists(FILE):\n",
        "    # Read the Stock File\n",
        "    DF = pd.read_csv(FILE)\n",
        "    DF['Date'] = pd.to_datetime(DF['Date'], format='%Y/%m/%d')\n",
        "\n",
        "    # Calculate Daily Return on the Closing Price\n",
        "    DF[symbol] = DF['Close'].pct_change() * 100\n",
        "\n",
        "    # Fetch only 2019 Data and Pct Return for the stock\n",
        "    #DF = DF[['Date',symbol]]\n",
        "    #DF = DF[DF.Date.dt.year == 2019 ]\n",
        "\n",
        "    # This will initiate the Dataframe for the first time and merge with it in the following runs\n",
        "    if FULL_DF_0.empty:\n",
        "      FULL_DF_0 = DF.copy(deep = True)\n",
        "    else:\n",
        "      FULL_DF_0 = pd.merge(FULL_DF_0, DF, \n",
        "                      on = 'Date',\n",
        "                      how = 'outer')\n",
        "\n",
        "FULL_DF_0 = FULL_DF_0.iloc[1:]\n",
        "FULL_DF_0.set_index('Date',drop = True, inplace = True)\n",
        "FULL_DF_0.dropna(axis=1, how=\"any\", inplace=True)\n",
        "\n",
        "FULL_DF_0.shape\n",
        "FULL_DF_0.head()"
      ],
      "execution_count": null,
      "outputs": []
    },
    {
      "cell_type": "markdown",
      "metadata": {
        "id": "GpqUfm0tzzZy"
      },
      "source": [
        "HA_OPEN = AVG( T-1 OPEN, T-1 CLOSE)\n",
        "HA_HIGH = MAX(HA_OPEN, HA_CLOSE, HIGH on T)\n",
        "HA_LOW = MIN(HA_OPEN, HA_CLOSE, Low on T)\n",
        "HA_CLOSE = AVG( OPEN, HIGH, LOW, CLOSE of T)\n",
        "rolling 252 day return\n"
      ]
    }
  ]
}